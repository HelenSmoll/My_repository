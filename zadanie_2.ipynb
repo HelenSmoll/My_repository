{
 "cells": [
  {
   "cell_type": "code",
   "execution_count": 30,
   "metadata": {},
   "outputs": [
    {
     "name": "stdout",
     "output_type": "stream",
     "text": [
      "1\n",
      "15\n",
      "[1, 2, 3, 4, 5, 6, 7, 8, 9, 11, 12, 15]\n"
     ]
    }
   ],
   "source": [
    "def delim(p):\n",
    "    flag = True\n",
    "    a = str(p)\n",
    "    for i in a:\n",
    "        if i!='0':\n",
    "            if p % int(i) != 0:\n",
    "                flag = False\n",
    "                break\n",
    "        else:\n",
    "            flag = False\n",
    "            break\n",
    "    return flag\n",
    "\n",
    "def DelimInRange(a,b):\n",
    "    array = []\n",
    "    for i in range(a,b+1):\n",
    "        if delim(i):\n",
    "            array+=[i]\n",
    "    return array\n",
    "x = int(input())\n",
    "y = int(input())\n",
    "print(DelimInRange(x,y))"
   ]
  },
  {
   "cell_type": "markdown",
   "metadata": {},
   "source": []
  },
  {
   "cell_type": "code",
   "execution_count": null,
   "metadata": {},
   "outputs": [],
   "source": []
  }
 ],
 "metadata": {
  "kernelspec": {
   "display_name": "Python 3",
   "language": "python",
   "name": "python3"
  },
  "language_info": {
   "codemirror_mode": {
    "name": "ipython",
    "version": 3
   },
   "file_extension": ".py",
   "mimetype": "text/x-python",
   "name": "python",
   "nbconvert_exporter": "python",
   "pygments_lexer": "ipython3",
   "version": "3.8.3"
  }
 },
 "nbformat": 4,
 "nbformat_minor": 4
}
