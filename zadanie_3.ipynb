{
 "cells": [
  {
   "cell_type": "code",
   "execution_count": 1,
   "metadata": {},
   "outputs": [
    {
     "name": "stdout",
     "output_type": "stream",
     "text": [
      "10#\n",
      "j\n"
     ]
    }
   ],
   "source": [
    "word = input()\n",
    "\n",
    "\n",
    "def word_convert(word):\n",
    "    array = []\n",
    "    bool_array = [True for i in range(len(word))]\n",
    "    diff = 96\n",
    "\n",
    "    for i in range(len(word)-1, -1, -1):\n",
    "        if bool_array[i] == False:\n",
    "            continue\n",
    "        if word[i] == '#':\n",
    "            array += [word[i-2]+word[i-1]]\n",
    "            bool_array[i] = False\n",
    "            bool_array[i-1] = False\n",
    "            bool_array[i-2] = False\n",
    "        else:\n",
    "            array += [word[i]]\n",
    "\n",
    "\n",
    "    for i in range(len(array)):\n",
    "        array[i] = chr(int(array[i])+diff)\n",
    "    array = array[::-1]\n",
    "    new_word = ''\n",
    "    for i in array:\n",
    "        new_word += i\n",
    "    return new_word\n",
    "word = word_convert(word)\n",
    "print(word)"
   ]
  },
  {
   "cell_type": "code",
   "execution_count": null,
   "metadata": {},
   "outputs": [],
   "source": []
  }
 ],
 "metadata": {
  "kernelspec": {
   "display_name": "Python 3",
   "language": "python",
   "name": "python3"
  },
  "language_info": {
   "codemirror_mode": {
    "name": "ipython",
    "version": 3
   },
   "file_extension": ".py",
   "mimetype": "text/x-python",
   "name": "python",
   "nbconvert_exporter": "python",
   "pygments_lexer": "ipython3",
   "version": "3.8.3"
  }
 },
 "nbformat": 4,
 "nbformat_minor": 4
}
