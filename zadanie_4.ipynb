{
 "cells": [
  {
   "cell_type": "code",
   "execution_count": 1,
   "metadata": {},
   "outputs": [
    {
     "name": "stdout",
     "output_type": "stream",
     "text": [
      "5\n"
     ]
    }
   ],
   "source": [
    "array = [1,3,4,2,9]\n",
    "\n",
    "\n",
    "def differ(a, b):\n",
    "    if a >= b:\n",
    "        a = a - b\n",
    "    else:\n",
    "        a = b - a\n",
    "    return a\n",
    "\n",
    "\n",
    "def evaluate(arr):\n",
    "    even = 1\n",
    "    odd = 0\n",
    "    for i in arr:\n",
    "\n",
    "        if i % 2 == 0:\n",
    "            even *= i\n",
    "        else:\n",
    "            odd += i\n",
    "\n",
    "    return differ(even, odd)\n",
    "\n",
    "\n",
    "x = evaluate(array)\n",
    "\n",
    "\n",
    "print(x)"
   ]
  },
  {
   "cell_type": "code",
   "execution_count": null,
   "metadata": {},
   "outputs": [],
   "source": []
  }
 ],
 "metadata": {
  "kernelspec": {
   "display_name": "Python 3",
   "language": "python",
   "name": "python3"
  },
  "language_info": {
   "codemirror_mode": {
    "name": "ipython",
    "version": 3
   },
   "file_extension": ".py",
   "mimetype": "text/x-python",
   "name": "python",
   "nbconvert_exporter": "python",
   "pygments_lexer": "ipython3",
   "version": "3.8.3"
  }
 },
 "nbformat": 4,
 "nbformat_minor": 4
}
