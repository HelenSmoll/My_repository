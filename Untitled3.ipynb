{
 "cells": [
  {
   "cell_type": "code",
   "execution_count": null,
   "metadata": {},
   "outputs": [],
   "source": [
    "a = int(input())\n",
    "a = str(a)\n",
    "l = len(a)\n",
    "b = True\n",
    "\n",
    "try:    \n",
    "    i = a.index('6')\n",
    "except:\n",
    "    print(a)\n",
    "    b = False\n",
    "    \n",
    "if b==True:\n",
    "    newa = a[0:i] + '9' + a[i+1:l]\n",
    "    \n",
    "    \n",
    "\n",
    "print(newa)"
   ]
  }
 ],
 "metadata": {
  "kernelspec": {
   "display_name": "Python 3",
   "language": "python",
   "name": "python3"
  },
  "language_info": {
   "codemirror_mode": {
    "name": "ipython",
    "version": 3
   },
   "file_extension": ".py",
   "mimetype": "text/x-python",
   "name": "python",
   "nbconvert_exporter": "python",
   "pygments_lexer": "ipython3",
   "version": "3.8.3"
  }
 },
 "nbformat": 4,
 "nbformat_minor": 4
}
